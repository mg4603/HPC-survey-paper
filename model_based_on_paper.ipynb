{
  "nbformat": 4,
  "nbformat_minor": 0,
  "metadata": {
    "colab": {
      "name": "model_based_on_paper.ipynb",
      "provenance": [],
      "collapsed_sections": [],
      "authorship_tag": "ABX9TyNxoTcdr6+Dqgn/9pfzZ9FD",
      "include_colab_link": true
    },
    "kernelspec": {
      "name": "python3",
      "display_name": "Python 3"
    },
    "accelerator": "TPU"
  },
  "cells": [
    {
      "cell_type": "markdown",
      "metadata": {
        "id": "view-in-github",
        "colab_type": "text"
      },
      "source": [
        "<a href=\"https://colab.research.google.com/github/mg4603/HPC-survey-paper/blob/master/model_based_on_paper.ipynb\" target=\"_parent\"><img src=\"https://colab.research.google.com/assets/colab-badge.svg\" alt=\"Open In Colab\"/></a>"
      ]
    },
    {
      "cell_type": "code",
      "metadata": {
        "id": "eGL_rgpQ4sJf",
        "colab_type": "code",
        "outputId": "247fe67a-7f08-4266-deed-8e0975669f22",
        "colab": {
          "base_uri": "https://localhost:8080/",
          "height": 34
        }
      },
      "source": [
        "import keras\n",
        "import tensorflow as tf\n",
        "import numpy as np\n",
        "import matplotlib.pyplot as plt\n",
        "%matplotlib inline\n",
        "from sklearn.metrics import accuracy_score, classification_report\n",
        "\n",
        "from keras.models import Sequential\n",
        "from keras.layers import Dense, Dropout, Activation, Flatten\n",
        "from keras.layers import Conv2D, MaxPooling2D, AveragePooling2D, GlobalAveragePooling2D\n",
        "from keras.layers import BatchNormalization, Dropout, ZeroPadding2D\n",
        "from keras import Model\n",
        "from keras.layers import Input\n",
        "from keras.regularizers import l2\n",
        "\n",
        "from keras.utils import np_utils\n",
        "from keras import backend as K\n",
        "import cv2"
      ],
      "execution_count": 1,
      "outputs": [
        {
          "output_type": "stream",
          "text": [
            "Using TensorFlow backend.\n"
          ],
          "name": "stderr"
        }
      ]
    },
    {
      "cell_type": "code",
      "metadata": {
        "id": "-p7vpnnW4sJm",
        "colab_type": "code",
        "colab": {}
      },
      "source": [
        "\n",
        "(X_train, y_train), (X_test, y_test) = keras.datasets.cifar10.load_data()\n",
        "classes = ['plane', 'car', 'bird', 'cat', 'deer', 'dog', 'frog', 'forse', 'ship', 'truck']\n",
        "\n"
      ],
      "execution_count": 0,
      "outputs": []
    },
    {
      "cell_type": "code",
      "metadata": {
        "id": "EkTnh6P0xTJd",
        "colab_type": "code",
        "colab": {}
      },
      "source": [
        "num_classes = 10\n",
        "input_shape = [28, 28]\n",
        "\n",
        "X_val = X_train[-1000:,:]\n",
        "y_val = y_train[-1000:]\n",
        "\n",
        "X_train = X_train[:-1000, :]\n",
        "y_train = y_train[:-1000]\n"
      ],
      "execution_count": 0,
      "outputs": []
    },
    {
      "cell_type": "code",
      "metadata": {
        "id": "2FAq9UOrxbK1",
        "colab_type": "code",
        "colab": {}
      },
      "source": [
        "\n",
        "X_train_upscaled = np.zeros((49000, 3, 227, 227))\n",
        "\n",
        "for i, img in enumerate(X_train):\n",
        "    im = img.reshape((1, 2, 0))\n",
        "    large_img = cv2.resize(im, dsize=(227, 227), interpolation=cv2.INTER_CUBIC)\n",
        "    X_train_upscaled[i] = large_img.reshape((2, 0, 1))"
      ],
      "execution_count": 0,
      "outputs": []
    },
    {
      "cell_type": "code",
      "metadata": {
        "id": "O-MNvVHWxyly",
        "colab_type": "code",
        "colab": {}
      },
      "source": [
        "X_val_upscaled = np.zeros((1000, 3, 227, 227))\n",
        "\n",
        "for i, img in enumerate(X_val):\n",
        "    im = img.reshape((1, 2, 0))\n",
        "    large_img = cv2.resize(im, dsize=(227, 227), interpolation=cv2.INTER_CUBIC)\n",
        "    X_val_upscaled[i] = large_img.reshape((2, 0, 1))"
      ],
      "execution_count": 0,
      "outputs": []
    },
    {
      "cell_type": "code",
      "metadata": {
        "id": "4MnhKfKvx01o",
        "colab_type": "code",
        "colab": {}
      },
      "source": [
        "X_test_upscaled = np.zeros((10000, 3, 227, 227))\n",
        "\n",
        "\n",
        "for i, img in enumerate(X_test):\n",
        "    im = img.reshape((1, 2, 0))\n",
        "    large_img = cv2.resize(im, dsize=(227, 227), interpolation=cv2.INTER_CUBIC)\n",
        "    X_test_upscaled[i] = large_img.reshape((2, 0, 1))\n"
      ],
      "execution_count": 0,
      "outputs": []
    },
    {
      "cell_type": "code",
      "metadata": {
        "id": "NW9C7p2oxiN1",
        "colab_type": "code",
        "colab": {}
      },
      "source": [
        "\n",
        "X_train = X_train_upscaled\n",
        "X_val = X_val_upscaled \n",
        "X_test =X_test_upscaled \n",
        "\n",
        "\n",
        "X_train = X_train.astype('float32')\n",
        "X_val = X_val.astype('float32')\n",
        "X_test = X_test.astype('float32')\n",
        "\n",
        "mean_image = np.mean(X_train, axis = 0)\n",
        "X_train -= mean_image\n",
        "X_val -= mean_image\n",
        "X_test -= mean_image\n",
        "\n",
        "print('X_train.shape =',X_train.shape)\n",
        "print('X_val.shape   =',X_val.shape)\n",
        "print('X_test.shape  =',X_test.shape)\n",
        "\n",
        "y_train = keras.utils.to_categorical(y_train, num_classes)\n",
        "y_val = keras.utils.to_categorical(y_val, num_classes)\n",
        "y_test = keras.utils.to_categorical(y_test, num_classes)\n",
        "\n",
        "print('y_train.shape =',y_train.shape)\n",
        "print('y_val.shape   =',y_val.shape)\n",
        "print('y_test.shape  =',y_test.shape)\n",
        "\n",
        "data = (X_train, y_train, X_val, y_val, X_test, y_test)\n"
      ],
      "execution_count": 0,
      "outputs": []
    },
    {
      "cell_type": "code",
      "metadata": {
        "id": "IZbV30pD4sJz",
        "colab_type": "code",
        "colab": {}
      },
      "source": [
        "def try_model(model_name, data, epochs = 2, batch_size = 256 ):\n",
        "    \n",
        "    myModel = model_name()\n",
        "    myModel.summary()\n",
        "    myModel.compile(optimizer = 'adam', loss = 'categorical_crossentropy', metrics = ['accuracy'])\n",
        "\n",
        "    X_train, y_train, X_val, y_val, X_test, y_test = data\n",
        "    \n",
        "    myModel.fit(X_train, y_train, batch_size=batch_size, epochs=epochs, \n",
        "                validation_data=(X_val, y_val), verbose=2)\n",
        "    \n",
        "    scores = myModel.evaluate(X_train, y_train, verbose=2)\n",
        "    print('Model Train',myModel.metrics_names[1],': %.2f%%' %(scores[1] * 100))\n",
        "\n",
        "    scores = myModel.evaluate(X_val, y_val, verbose=2)\n",
        "    print('Model Val',myModel.metrics_names[1],': %.2f%%' %(scores[1] * 100))\n",
        "    \n",
        "    y_pred = myModel.predict(X_test)\n",
        "    print('Accuracy = %.2f%%' % (accuracy_score(y_test.argmax(1), y_pred.argmax(1))*100))\n",
        "    \n",
        "    return myModel, y_pred"
      ],
      "execution_count": 0,
      "outputs": []
    },
    {
      "cell_type": "code",
      "metadata": {
        "id": "ydWdDQe34sKN",
        "colab_type": "code",
        "colab": {}
      },
      "source": [
        "def alexnet():\n",
        "    return Sequential([\n",
        "        # 1\n",
        "        Conv2D(96, (11, 11), strides=4, input_shape=(227,227,3), activation='relu'),\n",
        "        MaxPooling2D(pool_size=(3, 3), strides=2),\n",
        "        BatchNormalization(),\n",
        "        \n",
        "        # 2\n",
        "        ZeroPadding2D((2, 2)),\n",
        "        Conv2D(256, (5, 5), activation='relu'),\n",
        "        MaxPooling2D(pool_size=(3, 3), strides=2),\n",
        "        BatchNormalization(),\n",
        "        \n",
        "        # 3\n",
        "        ZeroPadding2D((1, 1)),\n",
        "        Conv2D(384, (3, 3), activation='relu'),\n",
        "        \n",
        "        # 4\n",
        "        ZeroPadding2D((1, 1)),\n",
        "        Conv2D(384, (3, 3), activation='relu'),\n",
        "        \n",
        "        # 5\n",
        "        ZeroPadding2D((1, 1)),\n",
        "        Conv2D(256, (3, 3), activation='relu'),\n",
        "        MaxPooling2D(pool_size=(3, 3), strides=2),\n",
        "        \n",
        "        # 6\n",
        "        Flatten(),\n",
        "        Dense(4096, activation = 'relu'),\n",
        "        Dropout(0.5),\n",
        "        \n",
        "        # 7\n",
        "        Dense(4096, activation = 'relu'),\n",
        "        Dropout(0.5),\n",
        "        \n",
        "        # 8\n",
        "        Dense(num_classes, activation = 'softmax')\n",
        "    ])\n"
      ],
      "execution_count": 0,
      "outputs": []
    },
    {
      "cell_type": "code",
      "metadata": {
        "id": "WKj17NgE4sKR",
        "colab_type": "code",
        "colab": {}
      },
      "source": [
        "myModel, y_pred = try_model(alexnet, data)"
      ],
      "execution_count": 0,
      "outputs": []
    }
  ]
}
