{
  "nbformat": 4,
  "nbformat_minor": 0,
  "metadata": {
    "colab": {
      "name": "model_based_on_paper.ipynb",
      "provenance": [],
      "collapsed_sections": [],
      "authorship_tag": "ABX9TyNxoTcdr6+Dqgn/9pfzZ9FD",
      "include_colab_link": true
    },
    "kernelspec": {
      "name": "python3",
      "display_name": "Python 3"
    },
    "accelerator": "TPU"
  },
  "cells": [
    {
      "cell_type": "markdown",
      "metadata": {
        "id": "view-in-github",
        "colab_type": "text"
      },
      "source": [
        "<a href=\"https://colab.research.google.com/github/mg4603/HPC-survey-paper/blob/master/model_based_on_paper.ipynb\" target=\"_parent\"><img src=\"https://colab.research.google.com/assets/colab-badge.svg\" alt=\"Open In Colab\"/></a>"
      ]
    },
    {
      "cell_type": "code",
      "metadata": {
        "id": "eGL_rgpQ4sJf",
        "colab_type": "code",
        "outputId": "247fe67a-7f08-4266-deed-8e0975669f22",
        "colab": {
          "base_uri": "https://localhost:8080/",
          "height": 34
        }
      },
      "source": [
        "import keras\n",
        "import tensorflow as tf\n",
        "import numpy as np\n",
        "import matplotlib.pyplot as plt\n",
        "%matplotlib inline\n",
        "from sklearn.metrics import accuracy_score, classification_report\n",
        "\n",
        "from keras.models import Sequential\n",
        "from keras.layers import Dense, Dropout, Activation, Flatten\n",
        "from keras.layers import Conv2D, MaxPooling2D, AveragePooling2D, GlobalAveragePooling2D\n",
        "from keras.layers import BatchNormalization, Dropout, ZeroPadding2D\n",
        "from keras import Model\n",
        "from keras.layers import Input\n",
        "from keras.regularizers import l2\n",
        "\n",
        "from keras.utils import np_utils\n",
        "from keras import backend as K\n",
        "import cv2"
      ],
      "execution_count": 1,
      "outputs": [
        {
          "output_type": "stream",
          "text": [
            "Using TensorFlow backend.\n"
          ],
          "name": "stderr"
        }
      ]
    },
    {
      "cell_type": "code",
      "metadata": {
        "id": "-p7vpnnW4sJm",
        "colab_type": "code",
        "outputId": "61bb49c4-9765-4174-c59b-979043f3cffc",
        "colab": {
          "base_uri": "https://localhost:8080/",
          "height": 52
        }
      },
      "source": [
        "\n",
        "(X_train, y_train), (X_test, y_test) = keras.datasets.cifar10.load_data()\n",
        "classes = ['plane', 'car', 'bird', 'cat', 'deer', 'dog', 'frog', 'forse', 'ship', 'truck']\n",
        "\n"
      ],
      "execution_count": 2,
      "outputs": [
        {
          "output_type": "stream",
          "text": [
            "Downloading data from https://www.cs.toronto.edu/~kriz/cifar-10-python.tar.gz\n",
            "170500096/170498071 [==============================] - 2s 0us/step\n"
          ],
          "name": "stdout"
        }
      ]
    },
    {
      "cell_type": "code",
      "metadata": {
        "id": "EkTnh6P0xTJd",
        "colab_type": "code",
        "colab": {}
      },
      "source": [
        "num_classes = 10\n",
        "input_shape = [28, 28]\n",
        "\n",
        "X_val = X_train[-1000:,:]\n",
        "y_val = y_train[-1000:]\n",
        "\n",
        "X_train = X_train[:-1000, :]\n",
        "y_train = y_train[:-1000]\n"
      ],
      "execution_count": 0,
      "outputs": []
    },
    {
      "cell_type": "code",
      "metadata": {
        "id": "2FAq9UOrxbK1",
        "colab_type": "code",
        "colab": {}
      },
      "source": [
        "\n",
        "X_train_upscaled = np.zeros((49000, 3, 227, 227))\n",
        "\n",
        "for i, img in enumerate(X_train):\n",
        "    im = img.reshape((1, 2, 0))\n",
        "    large_img = cv2.resize(im, dsize=(227, 227), interpolation=cv2.INTER_CUBIC)\n",
        "    X_train_upscaled[i] = large_img.reshape((2, 0, 1))"
      ],
      "execution_count": 0,
      "outputs": []
    },
    {
      "cell_type": "code",
      "metadata": {
        "id": "O-MNvVHWxyly",
        "colab_type": "code",
        "colab": {}
      },
      "source": [
        "X_val_upscaled = np.zeros((1000, 3, 227, 227))\n",
        "\n",
        "for i, img in enumerate(X_val):\n",
        "    im = img.reshape((1, 2, 0))\n",
        "    large_img = cv2.resize(im, dsize=(227, 227), interpolation=cv2.INTER_CUBIC)\n",
        "    X_val_upscaled[i] = large_img.reshape((2, 0, 1))"
      ],
      "execution_count": 0,
      "outputs": []
    },
    {
      "cell_type": "code",
      "metadata": {
        "id": "4MnhKfKvx01o",
        "colab_type": "code",
        "colab": {}
      },
      "source": [
        "X_test_upscaled = np.zeros((10000, 3, 227, 227))\n",
        "\n",
        "\n",
        "for i, img in enumerate(X_test):\n",
        "    im = img.reshape((1, 2, 0))\n",
        "    large_img = cv2.resize(im, dsize=(227, 227), interpolation=cv2.INTER_CUBIC)\n",
        "    X_test_upscaled[i] = large_img.reshape((2, 0, 1))\n"
      ],
      "execution_count": 0,
      "outputs": []
    },
    {
      "cell_type": "code",
      "metadata": {
        "id": "NW9C7p2oxiN1",
        "colab_type": "code",
        "colab": {}
      },
      "source": [
        "\n",
        "X_train_upscaled = X_train\n",
        "X_val_upscaled = X_val\n",
        "X_test_upscaled = X_test\n",
        "\n",
        "\n",
        "X_train = X_train.astype('float32')\n",
        "X_val = X_val.astype('float32')\n",
        "X_test = X_test.astype('float32')\n",
        "\n",
        "mean_image = np.mean(X_train, axis = 0)\n",
        "X_train -= mean_image\n",
        "X_val -= mean_image\n",
        "X_test -= mean_image\n",
        "\n",
        "print('X_train.shape =',X_train.shape)\n",
        "print('X_val.shape   =',X_val.shape)\n",
        "print('X_test.shape  =',X_test.shape)\n",
        "\n",
        "y_train = keras.utils.to_categorical(y_train, num_classes)\n",
        "y_val = keras.utils.to_categorical(y_val, num_classes)\n",
        "y_test = keras.utils.to_categorical(y_test, num_classes)\n",
        "\n",
        "print('y_train.shape =',y_train.shape)\n",
        "print('y_val.shape   =',y_val.shape)\n",
        "print('y_test.shape  =',y_test.shape)\n",
        "\n",
        "data = (X_train, y_train, X_val, y_val, X_test, y_test)\n"
      ],
      "execution_count": 0,
      "outputs": []
    },
    {
      "cell_type": "code",
      "metadata": {
        "id": "IZbV30pD4sJz",
        "colab_type": "code",
        "colab": {}
      },
      "source": [
        "def try_model(model_name, data, epochs = 2, batch_size = 256 ):\n",
        "    \n",
        "    myModel = model_name()\n",
        "    myModel.summary()\n",
        "    myModel.compile(optimizer = 'adam', loss = 'categorical_crossentropy', metrics = ['accuracy'])\n",
        "\n",
        "    X_train, y_train, X_val, y_val, X_test, y_test = data\n",
        "    \n",
        "    myModel.fit(X_train, y_train, batch_size=batch_size, epochs=epochs, \n",
        "                validation_data=(X_val, y_val), verbose=2)\n",
        "    \n",
        "    scores = myModel.evaluate(X_train, y_train, verbose=2)\n",
        "    print('Model Train',myModel.metrics_names[1],': %.2f%%' %(scores[1] * 100))\n",
        "\n",
        "    scores = myModel.evaluate(X_val, y_val, verbose=2)\n",
        "    print('Model Val',myModel.metrics_names[1],': %.2f%%' %(scores[1] * 100))\n",
        "    \n",
        "    y_pred = myModel.predict(X_test)\n",
        "    print('Accuracy = %.2f%%' % (accuracy_score(y_test.argmax(1), y_pred.argmax(1))*100))\n",
        "    \n",
        "    return myModel, y_pred"
      ],
      "execution_count": 0,
      "outputs": []
    },
    {
      "cell_type": "code",
      "metadata": {
        "id": "ydWdDQe34sKN",
        "colab_type": "code",
        "colab": {}
      },
      "source": [
        "def alexnet():\n",
        "    return Sequential([\n",
        "        # 1\n",
        "        Conv2D(96, (11, 11), strides=4, input_shape=(227,227,3), activation='relu'),\n",
        "        MaxPooling2D(pool_size=(3, 3), strides=2),\n",
        "        BatchNormalization(),\n",
        "        \n",
        "        # 2\n",
        "        ZeroPadding2D((2, 2)),\n",
        "        Conv2D(256, (5, 5), activation='relu'),\n",
        "        MaxPooling2D(pool_size=(3, 3), strides=2),\n",
        "        BatchNormalization(),\n",
        "        \n",
        "        # 3\n",
        "        ZeroPadding2D((1, 1)),\n",
        "        Conv2D(384, (3, 3), activation='relu'),\n",
        "        \n",
        "        # 4\n",
        "        ZeroPadding2D((1, 1)),\n",
        "        Conv2D(384, (3, 3), activation='relu'),\n",
        "        \n",
        "        # 5\n",
        "        ZeroPadding2D((1, 1)),\n",
        "        Conv2D(256, (3, 3), activation='relu'),\n",
        "        MaxPooling2D(pool_size=(3, 3), strides=2),\n",
        "        \n",
        "        # 6\n",
        "        Flatten(),\n",
        "        Dense(4096, activation = 'relu'),\n",
        "        Dropout(0.5),\n",
        "        \n",
        "        # 7\n",
        "        Dense(4096, activation = 'relu'),\n",
        "        Dropout(0.5),\n",
        "        \n",
        "        # 8\n",
        "        Dense(num_classes, activation = 'softmax')\n",
        "    ])\n"
      ],
      "execution_count": 0,
      "outputs": []
    },
    {
      "cell_type": "code",
      "metadata": {
        "id": "WKj17NgE4sKR",
        "colab_type": "code",
        "outputId": "bd0e9824-a28e-49e5-e7d2-0cf4ea963c15",
        "colab": {
          "base_uri": "https://localhost:8080/",
          "height": 1000
        }
      },
      "source": [
        "myModel, y_pred = try_model(alexnet, data)"
      ],
      "execution_count": 0,
      "outputs": [
        {
          "output_type": "stream",
          "text": [
            "Model: \"sequential_12\"\n",
            "_________________________________________________________________\n",
            "Layer (type)                 Output Shape              Param #   \n",
            "=================================================================\n",
            "conv2d_40 (Conv2D)           (None, 55, 55, 96)        34944     \n",
            "_________________________________________________________________\n",
            "max_pooling2d_22 (MaxPooling (None, 27, 27, 96)        0         \n",
            "_________________________________________________________________\n",
            "batch_normalization_15 (Batc (None, 27, 27, 96)        384       \n",
            "_________________________________________________________________\n",
            "zero_padding2d_29 (ZeroPaddi (None, 31, 31, 96)        0         \n",
            "_________________________________________________________________\n",
            "conv2d_41 (Conv2D)           (None, 27, 27, 256)       614656    \n",
            "_________________________________________________________________\n",
            "max_pooling2d_23 (MaxPooling (None, 13, 13, 256)       0         \n",
            "_________________________________________________________________\n",
            "batch_normalization_16 (Batc (None, 13, 13, 256)       1024      \n",
            "_________________________________________________________________\n",
            "zero_padding2d_30 (ZeroPaddi (None, 15, 15, 256)       0         \n",
            "_________________________________________________________________\n",
            "conv2d_42 (Conv2D)           (None, 13, 13, 384)       885120    \n",
            "_________________________________________________________________\n",
            "zero_padding2d_31 (ZeroPaddi (None, 15, 15, 384)       0         \n",
            "_________________________________________________________________\n",
            "conv2d_43 (Conv2D)           (None, 13, 13, 384)       1327488   \n",
            "_________________________________________________________________\n",
            "zero_padding2d_32 (ZeroPaddi (None, 15, 15, 384)       0         \n",
            "_________________________________________________________________\n",
            "conv2d_44 (Conv2D)           (None, 13, 13, 256)       884992    \n",
            "_________________________________________________________________\n",
            "max_pooling2d_24 (MaxPooling (None, 6, 6, 256)         0         \n",
            "_________________________________________________________________\n",
            "flatten_12 (Flatten)         (None, 9216)              0         \n",
            "_________________________________________________________________\n",
            "dense_36 (Dense)             (None, 4096)              37752832  \n",
            "_________________________________________________________________\n",
            "dropout_15 (Dropout)         (None, 4096)              0         \n",
            "_________________________________________________________________\n",
            "dense_37 (Dense)             (None, 4096)              16781312  \n",
            "_________________________________________________________________\n",
            "dropout_16 (Dropout)         (None, 4096)              0         \n",
            "_________________________________________________________________\n",
            "dense_38 (Dense)             (None, 10)                40970     \n",
            "=================================================================\n",
            "Total params: 58,323,722\n",
            "Trainable params: 58,323,018\n",
            "Non-trainable params: 704\n",
            "_________________________________________________________________\n"
          ],
          "name": "stdout"
        },
        {
          "output_type": "error",
          "ename": "ValueError",
          "evalue": "ignored",
          "traceback": [
            "\u001b[0;31m---------------------------------------------------------------------------\u001b[0m",
            "\u001b[0;31mValueError\u001b[0m                                Traceback (most recent call last)",
            "\u001b[0;32m<ipython-input-31-ac221cf85fbb>\u001b[0m in \u001b[0;36m<module>\u001b[0;34m()\u001b[0m\n\u001b[0;32m----> 1\u001b[0;31m \u001b[0mmyModel\u001b[0m\u001b[0;34m,\u001b[0m \u001b[0my_pred\u001b[0m \u001b[0;34m=\u001b[0m \u001b[0mtry_model\u001b[0m\u001b[0;34m(\u001b[0m\u001b[0malexnet\u001b[0m\u001b[0;34m,\u001b[0m \u001b[0mdata\u001b[0m\u001b[0;34m)\u001b[0m\u001b[0;34m\u001b[0m\u001b[0;34m\u001b[0m\u001b[0m\n\u001b[0m",
            "\u001b[0;32m<ipython-input-28-6441e265e1d8>\u001b[0m in \u001b[0;36mtry_model\u001b[0;34m(model_name, data, epochs, batch_size)\u001b[0m\n\u001b[1;32m      8\u001b[0m \u001b[0;34m\u001b[0m\u001b[0m\n\u001b[1;32m      9\u001b[0m     myModel.fit(X_train, y_train, batch_size=batch_size, epochs=epochs, \n\u001b[0;32m---> 10\u001b[0;31m                 validation_data=(X_val, y_val), verbose=2)\n\u001b[0m\u001b[1;32m     11\u001b[0m \u001b[0;34m\u001b[0m\u001b[0m\n\u001b[1;32m     12\u001b[0m     \u001b[0mscores\u001b[0m \u001b[0;34m=\u001b[0m \u001b[0mmyModel\u001b[0m\u001b[0;34m.\u001b[0m\u001b[0mevaluate\u001b[0m\u001b[0;34m(\u001b[0m\u001b[0mX_train\u001b[0m\u001b[0;34m,\u001b[0m \u001b[0my_train\u001b[0m\u001b[0;34m,\u001b[0m \u001b[0mverbose\u001b[0m\u001b[0;34m=\u001b[0m\u001b[0;36m2\u001b[0m\u001b[0;34m)\u001b[0m\u001b[0;34m\u001b[0m\u001b[0;34m\u001b[0m\u001b[0m\n",
            "\u001b[0;32m/usr/local/lib/python3.6/dist-packages/keras/engine/training.py\u001b[0m in \u001b[0;36mfit\u001b[0;34m(self, x, y, batch_size, epochs, verbose, callbacks, validation_split, validation_data, shuffle, class_weight, sample_weight, initial_epoch, steps_per_epoch, validation_steps, validation_freq, max_queue_size, workers, use_multiprocessing, **kwargs)\u001b[0m\n\u001b[1;32m   1152\u001b[0m             \u001b[0msample_weight\u001b[0m\u001b[0;34m=\u001b[0m\u001b[0msample_weight\u001b[0m\u001b[0;34m,\u001b[0m\u001b[0;34m\u001b[0m\u001b[0;34m\u001b[0m\u001b[0m\n\u001b[1;32m   1153\u001b[0m             \u001b[0mclass_weight\u001b[0m\u001b[0;34m=\u001b[0m\u001b[0mclass_weight\u001b[0m\u001b[0;34m,\u001b[0m\u001b[0;34m\u001b[0m\u001b[0;34m\u001b[0m\u001b[0m\n\u001b[0;32m-> 1154\u001b[0;31m             batch_size=batch_size)\n\u001b[0m\u001b[1;32m   1155\u001b[0m \u001b[0;34m\u001b[0m\u001b[0m\n\u001b[1;32m   1156\u001b[0m         \u001b[0;31m# Prepare validation data.\u001b[0m\u001b[0;34m\u001b[0m\u001b[0;34m\u001b[0m\u001b[0;34m\u001b[0m\u001b[0m\n",
            "\u001b[0;32m/usr/local/lib/python3.6/dist-packages/keras/engine/training.py\u001b[0m in \u001b[0;36m_standardize_user_data\u001b[0;34m(self, x, y, sample_weight, class_weight, check_array_lengths, batch_size)\u001b[0m\n\u001b[1;32m    577\u001b[0m             \u001b[0mfeed_input_shapes\u001b[0m\u001b[0;34m,\u001b[0m\u001b[0;34m\u001b[0m\u001b[0;34m\u001b[0m\u001b[0m\n\u001b[1;32m    578\u001b[0m             \u001b[0mcheck_batch_axis\u001b[0m\u001b[0;34m=\u001b[0m\u001b[0;32mFalse\u001b[0m\u001b[0;34m,\u001b[0m  \u001b[0;31m# Don't enforce the batch size.\u001b[0m\u001b[0;34m\u001b[0m\u001b[0;34m\u001b[0m\u001b[0m\n\u001b[0;32m--> 579\u001b[0;31m             exception_prefix='input')\n\u001b[0m\u001b[1;32m    580\u001b[0m \u001b[0;34m\u001b[0m\u001b[0m\n\u001b[1;32m    581\u001b[0m         \u001b[0;32mif\u001b[0m \u001b[0my\u001b[0m \u001b[0;32mis\u001b[0m \u001b[0;32mnot\u001b[0m \u001b[0;32mNone\u001b[0m\u001b[0;34m:\u001b[0m\u001b[0;34m\u001b[0m\u001b[0;34m\u001b[0m\u001b[0m\n",
            "\u001b[0;32m/usr/local/lib/python3.6/dist-packages/keras/engine/training_utils.py\u001b[0m in \u001b[0;36mstandardize_input_data\u001b[0;34m(data, names, shapes, check_batch_axis, exception_prefix)\u001b[0m\n\u001b[1;32m    143\u001b[0m                             \u001b[0;34m': expected '\u001b[0m \u001b[0;34m+\u001b[0m \u001b[0mnames\u001b[0m\u001b[0;34m[\u001b[0m\u001b[0mi\u001b[0m\u001b[0;34m]\u001b[0m \u001b[0;34m+\u001b[0m \u001b[0;34m' to have shape '\u001b[0m \u001b[0;34m+\u001b[0m\u001b[0;34m\u001b[0m\u001b[0;34m\u001b[0m\u001b[0m\n\u001b[1;32m    144\u001b[0m                             \u001b[0mstr\u001b[0m\u001b[0;34m(\u001b[0m\u001b[0mshape\u001b[0m\u001b[0;34m)\u001b[0m \u001b[0;34m+\u001b[0m \u001b[0;34m' but got array with shape '\u001b[0m \u001b[0;34m+\u001b[0m\u001b[0;34m\u001b[0m\u001b[0;34m\u001b[0m\u001b[0m\n\u001b[0;32m--> 145\u001b[0;31m                             str(data_shape))\n\u001b[0m\u001b[1;32m    146\u001b[0m     \u001b[0;32mreturn\u001b[0m \u001b[0mdata\u001b[0m\u001b[0;34m\u001b[0m\u001b[0;34m\u001b[0m\u001b[0m\n\u001b[1;32m    147\u001b[0m \u001b[0;34m\u001b[0m\u001b[0m\n",
            "\u001b[0;31mValueError\u001b[0m: Error when checking input: expected conv2d_40_input to have shape (227, 227, 3) but got array with shape (32, 32, 3)"
          ]
        }
      ]
    }
  ]
}