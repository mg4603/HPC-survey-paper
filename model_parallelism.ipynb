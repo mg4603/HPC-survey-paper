{
 "cells": [
  {
   "cell_type": "code",
   "execution_count": null,
   "metadata": {
    "colab": {
     "base_uri": "https://localhost:8080/",
     "height": 768
    },
    "colab_type": "code",
    "executionInfo": {
     "elapsed": 104706,
     "status": "ok",
     "timestamp": 1589136942019,
     "user": {
      "displayName": "Rajveer Beerda",
      "photoUrl": "https://lh4.googleusercontent.com/-Fy5BkBX8E5o/AAAAAAAAAAI/AAAAAAAAQ7k/Bhcsx7Zds1c/s64/photo.jpg",
      "userId": "13450949452176015748"
     },
     "user_tz": -330
    },
    "id": "1NCRp6si7wwt",
    "outputId": "a7ce65f3-83e0-4fae-f7c3-bfa12c2f0fd1"
   },
   "outputs": [
    {
     "name": "stdout",
     "output_type": "stream",
     "text": [
      "Collecting tf-nightly\n",
      "\u001b[?25l  Downloading https://files.pythonhosted.org/packages/80/97/9b00d0c08e2b84ab261931d5474e4bc3af05a8b2a2706e14fe5d9ea708b4/tf_nightly-2.2.0.dev20200508-cp36-cp36m-manylinux2010_x86_64.whl (521.9MB)\n",
      "\u001b[K     |████████████████████████████████| 521.9MB 34kB/s \n",
      "\u001b[?25hRequirement already satisfied: absl-py>=0.7.0 in /usr/local/lib/python3.6/dist-packages (from tf-nightly) (0.9.0)\n",
      "Collecting tf-estimator-nightly\n",
      "\u001b[?25l  Downloading https://files.pythonhosted.org/packages/f5/b5/acf49e3553538d09d96ae4c89485d12faace231f5e4c4fcc1fbfe5dae3d2/tf_estimator_nightly-2.3.0.dev2020051001-py2.py3-none-any.whl (456kB)\n",
      "\u001b[K     |████████████████████████████████| 460kB 35.0MB/s \n",
      "\u001b[?25hRequirement already satisfied: termcolor>=1.1.0 in /usr/local/lib/python3.6/dist-packages (from tf-nightly) (1.1.0)\n",
      "Requirement already satisfied: scipy==1.4.1; python_version >= \"3\" in /usr/local/lib/python3.6/dist-packages (from tf-nightly) (1.4.1)\n",
      "Requirement already satisfied: six>=1.12.0 in /usr/local/lib/python3.6/dist-packages (from tf-nightly) (1.12.0)\n",
      "Requirement already satisfied: keras-preprocessing>=1.1.0 in /usr/local/lib/python3.6/dist-packages (from tf-nightly) (1.1.0)\n",
      "Requirement already satisfied: astunparse==1.6.3 in /usr/local/lib/python3.6/dist-packages (from tf-nightly) (1.6.3)\n",
      "Requirement already satisfied: h5py<2.11.0,>=2.10.0 in /usr/local/lib/python3.6/dist-packages (from tf-nightly) (2.10.0)\n",
      "Requirement already satisfied: wrapt>=1.11.1 in /usr/local/lib/python3.6/dist-packages (from tf-nightly) (1.12.1)\n",
      "Requirement already satisfied: grpcio>=1.8.6 in /usr/local/lib/python3.6/dist-packages (from tf-nightly) (1.28.1)\n",
      "Requirement already satisfied: gast==0.3.3 in /usr/local/lib/python3.6/dist-packages (from tf-nightly) (0.3.3)\n",
      "Requirement already satisfied: protobuf>=3.9.2 in /usr/local/lib/python3.6/dist-packages (from tf-nightly) (3.10.0)\n",
      "Collecting tb-nightly<2.4.0a0,>=2.3.0a0\n",
      "\u001b[?25l  Downloading https://files.pythonhosted.org/packages/0d/9d/675bea42cce14dc60332c122afe8c576a7edb0e0d0cdf839d0d09679818b/tb_nightly-2.3.0a20200510-py3-none-any.whl (2.9MB)\n",
      "\u001b[K     |████████████████████████████████| 3.0MB 37.9MB/s \n",
      "\u001b[?25hRequirement already satisfied: wheel>=0.26; python_version >= \"3\" in /usr/local/lib/python3.6/dist-packages (from tf-nightly) (0.34.2)\n",
      "Requirement already satisfied: google-pasta>=0.1.8 in /usr/local/lib/python3.6/dist-packages (from tf-nightly) (0.2.0)\n",
      "Requirement already satisfied: numpy<2.0,>=1.16.0 in /usr/local/lib/python3.6/dist-packages (from tf-nightly) (1.18.4)\n",
      "Requirement already satisfied: opt-einsum>=2.3.2 in /usr/local/lib/python3.6/dist-packages (from tf-nightly) (3.2.1)\n",
      "Requirement already satisfied: setuptools in /usr/local/lib/python3.6/dist-packages (from protobuf>=3.9.2->tf-nightly) (46.1.3)\n",
      "Requirement already satisfied: werkzeug>=0.11.15 in /usr/local/lib/python3.6/dist-packages (from tb-nightly<2.4.0a0,>=2.3.0a0->tf-nightly) (1.0.1)\n",
      "Requirement already satisfied: google-auth-oauthlib<0.5,>=0.4.1 in /usr/local/lib/python3.6/dist-packages (from tb-nightly<2.4.0a0,>=2.3.0a0->tf-nightly) (0.4.1)\n",
      "Requirement already satisfied: requests<3,>=2.21.0 in /usr/local/lib/python3.6/dist-packages (from tb-nightly<2.4.0a0,>=2.3.0a0->tf-nightly) (2.23.0)\n",
      "Requirement already satisfied: google-auth<2,>=1.6.3 in /usr/local/lib/python3.6/dist-packages (from tb-nightly<2.4.0a0,>=2.3.0a0->tf-nightly) (1.7.2)\n",
      "Requirement already satisfied: tensorboard-plugin-wit>=1.6.0 in /usr/local/lib/python3.6/dist-packages (from tb-nightly<2.4.0a0,>=2.3.0a0->tf-nightly) (1.6.0.post3)\n",
      "Requirement already satisfied: markdown>=2.6.8 in /usr/local/lib/python3.6/dist-packages (from tb-nightly<2.4.0a0,>=2.3.0a0->tf-nightly) (3.2.1)\n",
      "Requirement already satisfied: requests-oauthlib>=0.7.0 in /usr/local/lib/python3.6/dist-packages (from google-auth-oauthlib<0.5,>=0.4.1->tb-nightly<2.4.0a0,>=2.3.0a0->tf-nightly) (1.3.0)\n",
      "Requirement already satisfied: urllib3!=1.25.0,!=1.25.1,<1.26,>=1.21.1 in /usr/local/lib/python3.6/dist-packages (from requests<3,>=2.21.0->tb-nightly<2.4.0a0,>=2.3.0a0->tf-nightly) (1.24.3)\n",
      "Requirement already satisfied: chardet<4,>=3.0.2 in /usr/local/lib/python3.6/dist-packages (from requests<3,>=2.21.0->tb-nightly<2.4.0a0,>=2.3.0a0->tf-nightly) (3.0.4)\n",
      "Requirement already satisfied: idna<3,>=2.5 in /usr/local/lib/python3.6/dist-packages (from requests<3,>=2.21.0->tb-nightly<2.4.0a0,>=2.3.0a0->tf-nightly) (2.9)\n",
      "Requirement already satisfied: certifi>=2017.4.17 in /usr/local/lib/python3.6/dist-packages (from requests<3,>=2.21.0->tb-nightly<2.4.0a0,>=2.3.0a0->tf-nightly) (2020.4.5.1)\n",
      "Requirement already satisfied: rsa<4.1,>=3.1.4 in /usr/local/lib/python3.6/dist-packages (from google-auth<2,>=1.6.3->tb-nightly<2.4.0a0,>=2.3.0a0->tf-nightly) (4.0)\n",
      "Requirement already satisfied: cachetools<3.2,>=2.0.0 in /usr/local/lib/python3.6/dist-packages (from google-auth<2,>=1.6.3->tb-nightly<2.4.0a0,>=2.3.0a0->tf-nightly) (3.1.1)\n",
      "Requirement already satisfied: pyasn1-modules>=0.2.1 in /usr/local/lib/python3.6/dist-packages (from google-auth<2,>=1.6.3->tb-nightly<2.4.0a0,>=2.3.0a0->tf-nightly) (0.2.8)\n",
      "Requirement already satisfied: oauthlib>=3.0.0 in /usr/local/lib/python3.6/dist-packages (from requests-oauthlib>=0.7.0->google-auth-oauthlib<0.5,>=0.4.1->tb-nightly<2.4.0a0,>=2.3.0a0->tf-nightly) (3.1.0)\n",
      "Requirement already satisfied: pyasn1>=0.1.3 in /usr/local/lib/python3.6/dist-packages (from rsa<4.1,>=3.1.4->google-auth<2,>=1.6.3->tb-nightly<2.4.0a0,>=2.3.0a0->tf-nightly) (0.4.8)\n",
      "Installing collected packages: tf-estimator-nightly, tb-nightly, tf-nightly\n",
      "Successfully installed tb-nightly-2.3.0a20200510 tf-estimator-nightly-2.3.0.dev2020051001 tf-nightly-2.2.0.dev20200508\n"
     ]
    }
   ],
   "source": [
    "!pip install tf-nightly"
   ]
  },
  {
   "cell_type": "code",
   "execution_count": null,
   "metadata": {
    "colab": {},
    "colab_type": "code",
    "id": "4_h2EOwE89rw"
   },
   "outputs": [],
   "source": [
    "import tensorflow as tf\n",
    "from tensorflow.keras import datasets, layers, models\n",
    "import matplotlib.pyplot as plt"
   ]
  },
  {
   "cell_type": "code",
   "execution_count": null,
   "metadata": {
    "colab": {},
    "colab_type": "code",
    "id": "aZUt-Iz_8zl1"
   },
   "outputs": [],
   "source": [
    "(train_images, train_labels), (test_images, test_labels) = datasets.cifar10.load_data();\n",
    "#Normalize pixel vals\n",
    "train_images, test_images = train_images/ 255.0, test_images/ 255.0"
   ]
  },
  {
   "cell_type": "code",
   "execution_count": null,
   "metadata": {
    "colab": {
     "base_uri": "https://localhost:8080/",
     "height": 425
    },
    "colab_type": "code",
    "executionInfo": {
     "elapsed": 1971,
     "status": "ok",
     "timestamp": 1589138815318,
     "user": {
      "displayName": "Rajveer Beerda",
      "photoUrl": "https://lh4.googleusercontent.com/-Fy5BkBX8E5o/AAAAAAAAAAI/AAAAAAAAQ7k/Bhcsx7Zds1c/s64/photo.jpg",
      "userId": "13450949452176015748"
     },
     "user_tz": -330
    },
    "id": "fGuLKFdJCMR5",
    "outputId": "5a6bde86-8240-48f8-f7ee-2a6b1cdc8c35"
   },
   "outputs": [
    {
     "name": "stdout",
     "output_type": "stream",
     "text": [
      "Model: \"sequential\"\n",
      "_________________________________________________________________\n",
      "Layer (type)                 Output Shape              Param #   \n",
      "=================================================================\n",
      "conv2d (Conv2D)              (None, 30, 30, 32)        896       \n",
      "_________________________________________________________________\n",
      "max_pooling2d (MaxPooling2D) (None, 15, 15, 32)        0         \n",
      "_________________________________________________________________\n",
      "conv2d_1 (Conv2D)            (None, 13, 13, 64)        18496     \n",
      "_________________________________________________________________\n",
      "max_pooling2d_1 (MaxPooling2 (None, 6, 6, 64)          0         \n",
      "_________________________________________________________________\n",
      "conv2d_2 (Conv2D)            (None, 4, 4, 64)          36928     \n",
      "_________________________________________________________________\n",
      "flatten (Flatten)            (None, 1024)              0         \n",
      "_________________________________________________________________\n",
      "dense (Dense)                (None, 64)                65600     \n",
      "_________________________________________________________________\n",
      "dense_1 (Dense)              (None, 10)                650       \n",
      "=================================================================\n",
      "Total params: 122,570\n",
      "Trainable params: 122,570\n",
      "Non-trainable params: 0\n",
      "_________________________________________________________________\n"
     ]
    }
   ],
   "source": [
    "model =  models.Sequential();\n",
    "with tf.device(\"/gpu:0\"):\n",
    "  model.add(layers.Conv2D(32, (3, 3), activation = \"relu\", input_shape = (32, 32, 3)));\n",
    "  model.add(layers.MaxPool2D((2, 2)))\n",
    "with tf.device(\"/gpu:1\"):\n",
    "  model.add(layers.Conv2D(64, (3, 3), activation = \"relu\"))\n",
    "  model.add(layers.MaxPool2D((2, 2)))\n",
    "with tf.device(\"/gpu:2\"):\n",
    "  model.add(layers.Conv2D(64, (3, 3), activation = \"relu\"))\n",
    "  model.add(layers.Flatten())\n",
    "with tf.device(\"/gpu:3\"):\n",
    "  model.add(layers.Dense(64, activation='relu'))\n",
    "  model.add(layers.Dense(10))\n",
    "model.compile(optimizer='adam',loss=tf.keras.losses.SparseCategoricalCrossentropy(from_logits=True),\n",
    "                metrics=['accuracy'])\n",
    "model.summary()"
   ]
  },
  {
   "cell_type": "code",
   "execution_count": null,
   "metadata": {
    "colab": {
     "base_uri": "https://localhost:8080/",
     "height": 391
    },
    "colab_type": "code",
    "executionInfo": {
     "elapsed": 102330,
     "status": "ok",
     "timestamp": 1589138918980,
     "user": {
      "displayName": "Rajveer Beerda",
      "photoUrl": "https://lh4.googleusercontent.com/-Fy5BkBX8E5o/AAAAAAAAAAI/AAAAAAAAQ7k/Bhcsx7Zds1c/s64/photo.jpg",
      "userId": "13450949452176015748"
     },
     "user_tz": -330
    },
    "id": "FU7F3yqC9E0w",
    "outputId": "df40da2c-6489-4575-b635-634f17a8fa40"
   },
   "outputs": [
    {
     "name": "stdout",
     "output_type": "stream",
     "text": [
      "Epoch 1/10\n",
      "1563/1563 [==============================] - 11s 7ms/step - loss: 1.5446 - accuracy: 0.4376 - val_loss: 1.2431 - val_accuracy: 0.5497\n",
      "Epoch 2/10\n",
      "1563/1563 [==============================] - 10s 6ms/step - loss: 1.1618 - accuracy: 0.5885 - val_loss: 1.0914 - val_accuracy: 0.6099\n",
      "Epoch 3/10\n",
      "1563/1563 [==============================] - 10s 6ms/step - loss: 1.0181 - accuracy: 0.6422 - val_loss: 1.0432 - val_accuracy: 0.6364\n",
      "Epoch 4/10\n",
      "1563/1563 [==============================] - 10s 6ms/step - loss: 0.9206 - accuracy: 0.6793 - val_loss: 0.9317 - val_accuracy: 0.6752\n",
      "Epoch 5/10\n",
      "1563/1563 [==============================] - 10s 6ms/step - loss: 0.8461 - accuracy: 0.7041 - val_loss: 0.9569 - val_accuracy: 0.6625\n",
      "Epoch 6/10\n",
      "1563/1563 [==============================] - 10s 6ms/step - loss: 0.7887 - accuracy: 0.7254 - val_loss: 0.8905 - val_accuracy: 0.6957\n",
      "Epoch 7/10\n",
      "1563/1563 [==============================] - 10s 6ms/step - loss: 0.7417 - accuracy: 0.7420 - val_loss: 0.8495 - val_accuracy: 0.7073\n",
      "Epoch 8/10\n",
      "1563/1563 [==============================] - 10s 6ms/step - loss: 0.6954 - accuracy: 0.7566 - val_loss: 0.8782 - val_accuracy: 0.7055\n",
      "Epoch 9/10\n",
      "1563/1563 [==============================] - 10s 6ms/step - loss: 0.6594 - accuracy: 0.7674 - val_loss: 0.8953 - val_accuracy: 0.6985\n",
      "Epoch 10/10\n",
      "1563/1563 [==============================] - 10s 6ms/step - loss: 0.6202 - accuracy: 0.7827 - val_loss: 0.8704 - val_accuracy: 0.7082\n",
      "CPU times: user 1min 32s, sys: 16.4 s, total: 1min 48s\n",
      "Wall time: 1min 41s\n"
     ]
    }
   ],
   "source": [
    "%%time\n",
    "history = model.fit(train_images, train_labels,\n",
    "                    epochs= 10, validation_data=(test_images, test_labels))"
   ]
  },
  {
   "cell_type": "code",
   "execution_count": null,
   "metadata": {
    "colab": {
     "base_uri": "https://localhost:8080/",
     "height": 300
    },
    "colab_type": "code",
    "executionInfo": {
     "elapsed": 2720,
     "status": "ok",
     "timestamp": 1589138923955,
     "user": {
      "displayName": "Rajveer Beerda",
      "photoUrl": "https://lh4.googleusercontent.com/-Fy5BkBX8E5o/AAAAAAAAAAI/AAAAAAAAQ7k/Bhcsx7Zds1c/s64/photo.jpg",
      "userId": "13450949452176015748"
     },
     "user_tz": -330
    },
    "id": "pOAdYjks-TUj",
    "outputId": "ed413aeb-5113-41ef-949c-17fbe70407be"
   },
   "outputs": [
    {
     "name": "stdout",
     "output_type": "stream",
     "text": [
      "313/313 - 1s - loss: 0.8704 - accuracy: 0.7082\n"
     ]
    },
    {
     "data": {
      "image/png": "[encoded data removed]",
      "text/plain": [
       "<Figure size 432x288 with 1 Axes>"
      ]
     },
     "metadata": {
      "needs_background": "light",
      "tags": []
     },
     "output_type": "display_data"
    }
   ],
   "source": [
    "plt.plot(history.history['accuracy'], label='accuracy')\n",
    "plt.plot(history.history['val_accuracy'], label='val_accuracy')\n",
    "plt.xlabel('Epoch')\n",
    "plt.ylabel('Accuracy')\n",
    "plt.ylim([0.5, 1])\n",
    "plt.legend(loc='lower right')\n",
    "test_loss, test_acc = model.evaluate(test_images, test_labels, verbose=2)"
   ]
  },
  {
   "cell_type": "code",
   "execution_count": null,
   "metadata": {
    "colab": {
     "base_uri": "https://localhost:8080/",
     "height": 34
    },
    "colab_type": "code",
    "executionInfo": {
     "elapsed": 1428,
     "status": "ok",
     "timestamp": 1589138926674,
     "user": {
      "displayName": "Rajveer Beerda",
      "photoUrl": "https://lh4.googleusercontent.com/-Fy5BkBX8E5o/AAAAAAAAAAI/AAAAAAAAQ7k/Bhcsx7Zds1c/s64/photo.jpg",
      "userId": "13450949452176015748"
     },
     "user_tz": -330
    },
    "id": "NGGrp3IO_wRW",
    "outputId": "8c083d9e-7265-490c-b2f0-9330bee2546f"
   },
   "outputs": [
    {
     "data": {
      "text/plain": [
       "0.7081999778747559"
      ]
     },
     "execution_count": 6,
     "metadata": {
      "tags": []
     },
     "output_type": "execute_result"
    }
   ],
   "source": [
    "test_acc"
   ]
  },
  {
   "cell_type": "code",
   "execution_count": null,
   "metadata": {
    "colab": {},
    "colab_type": "code",
    "id": "OxIPLDxf_yNs"
   },
   "outputs": [],
   "source": []
  }
 ],
 "metadata": {
  "accelerator": "GPU",
  "colab": {
   "authorship_tag": "ABX9TyM+Y295qqodmwAkisliO+ar",
   "name": "Copy of Untitled0.ipynb",
   "provenance": [
    {
     "file_id": "1oal7ObEoVi1TsW1hEvhXOXBDLmUkD2UQ",
     "timestamp": 1589139321249
    }
   ]
  },
  "kernelspec": {
   "display_name": "Python 3",
   "language": "python",
   "name": "python3"
  },
  "language_info": {
   "codemirror_mode": {
    "name": "ipython",
    "version": 3
   },
   "file_extension": ".py",
   "mimetype": "text/x-python",
   "name": "python",
   "nbconvert_exporter": "python",
   "pygments_lexer": "ipython3",
   "version": "3.7.6"
  }
 },
 "nbformat": 4,
 "nbformat_minor": 4
}
